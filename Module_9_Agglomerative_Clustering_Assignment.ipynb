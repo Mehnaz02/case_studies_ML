{
  "nbformat": 4,
  "nbformat_minor": 0,
  "metadata": {
    "colab": {
      "provenance": []
    },
    "kernelspec": {
      "name": "python3",
      "display_name": "Python 3"
    },
    "language_info": {
      "name": "python"
    }
  },
  "cells": [
    {
      "cell_type": "code",
      "execution_count": null,
      "metadata": {
        "id": "wZBvSI1aEzVt"
      },
      "outputs": [],
      "source": [
        "import pandas as pd\n",
        "import numpy as np"
      ]
    },
    {
      "cell_type": "code",
      "source": [
        "from sklearn.datasets import load_iris"
      ],
      "metadata": {
        "id": "jPleclmiFiXZ"
      },
      "execution_count": 1,
      "outputs": []
    },
    {
      "cell_type": "code",
      "source": [
        "iris=load_iris()"
      ],
      "metadata": {
        "id": "8BTqn-KvF3AZ"
      },
      "execution_count": 2,
      "outputs": []
    },
    {
      "cell_type": "code",
      "source": [
        "data=iris.data"
      ],
      "metadata": {
        "id": "CNz28z7LF8kh"
      },
      "execution_count": 4,
      "outputs": []
    },
    {
      "cell_type": "code",
      "source": [
        "data"
      ],
      "metadata": {
        "id": "50knbRorF91y"
      },
      "execution_count": 5,
      "outputs": []
    },
    {
      "cell_type": "code",
      "source": [
        "#Train an Agglomerative Clustering model based on the data\n",
        "from sklearn.cluster import AgglomerativeClustering"
      ],
      "metadata": {
        "id": "2j6QSJk6GA2l"
      },
      "execution_count": 8,
      "outputs": []
    },
    {
      "cell_type": "code",
      "source": [
        "AG=AgglomerativeClustering(n_clusters=3)"
      ],
      "metadata": {
        "id": "klyMUvkoGWKP"
      },
      "execution_count": 10,
      "outputs": []
    },
    {
      "cell_type": "code",
      "source": [
        "AG"
      ],
      "metadata": {
        "colab": {
          "base_uri": "https://localhost:8080/",
          "height": 75
        },
        "id": "jKdH3Op3GiiS",
        "outputId": "b48fb3a0-5e03-46e7-978d-fb3bdb9d2cec"
      },
      "execution_count": 11,
      "outputs": [
        {
          "output_type": "execute_result",
          "data": {
            "text/plain": [
              "AgglomerativeClustering(n_clusters=3)"
            ],
            "text/html": [
              "<style>#sk-container-id-1 {color: black;background-color: white;}#sk-container-id-1 pre{padding: 0;}#sk-container-id-1 div.sk-toggleable {background-color: white;}#sk-container-id-1 label.sk-toggleable__label {cursor: pointer;display: block;width: 100%;margin-bottom: 0;padding: 0.3em;box-sizing: border-box;text-align: center;}#sk-container-id-1 label.sk-toggleable__label-arrow:before {content: \"▸\";float: left;margin-right: 0.25em;color: #696969;}#sk-container-id-1 label.sk-toggleable__label-arrow:hover:before {color: black;}#sk-container-id-1 div.sk-estimator:hover label.sk-toggleable__label-arrow:before {color: black;}#sk-container-id-1 div.sk-toggleable__content {max-height: 0;max-width: 0;overflow: hidden;text-align: left;background-color: #f0f8ff;}#sk-container-id-1 div.sk-toggleable__content pre {margin: 0.2em;color: black;border-radius: 0.25em;background-color: #f0f8ff;}#sk-container-id-1 input.sk-toggleable__control:checked~div.sk-toggleable__content {max-height: 200px;max-width: 100%;overflow: auto;}#sk-container-id-1 input.sk-toggleable__control:checked~label.sk-toggleable__label-arrow:before {content: \"▾\";}#sk-container-id-1 div.sk-estimator input.sk-toggleable__control:checked~label.sk-toggleable__label {background-color: #d4ebff;}#sk-container-id-1 div.sk-label input.sk-toggleable__control:checked~label.sk-toggleable__label {background-color: #d4ebff;}#sk-container-id-1 input.sk-hidden--visually {border: 0;clip: rect(1px 1px 1px 1px);clip: rect(1px, 1px, 1px, 1px);height: 1px;margin: -1px;overflow: hidden;padding: 0;position: absolute;width: 1px;}#sk-container-id-1 div.sk-estimator {font-family: monospace;background-color: #f0f8ff;border: 1px dotted black;border-radius: 0.25em;box-sizing: border-box;margin-bottom: 0.5em;}#sk-container-id-1 div.sk-estimator:hover {background-color: #d4ebff;}#sk-container-id-1 div.sk-parallel-item::after {content: \"\";width: 100%;border-bottom: 1px solid gray;flex-grow: 1;}#sk-container-id-1 div.sk-label:hover label.sk-toggleable__label {background-color: #d4ebff;}#sk-container-id-1 div.sk-serial::before {content: \"\";position: absolute;border-left: 1px solid gray;box-sizing: border-box;top: 0;bottom: 0;left: 50%;z-index: 0;}#sk-container-id-1 div.sk-serial {display: flex;flex-direction: column;align-items: center;background-color: white;padding-right: 0.2em;padding-left: 0.2em;position: relative;}#sk-container-id-1 div.sk-item {position: relative;z-index: 1;}#sk-container-id-1 div.sk-parallel {display: flex;align-items: stretch;justify-content: center;background-color: white;position: relative;}#sk-container-id-1 div.sk-item::before, #sk-container-id-1 div.sk-parallel-item::before {content: \"\";position: absolute;border-left: 1px solid gray;box-sizing: border-box;top: 0;bottom: 0;left: 50%;z-index: -1;}#sk-container-id-1 div.sk-parallel-item {display: flex;flex-direction: column;z-index: 1;position: relative;background-color: white;}#sk-container-id-1 div.sk-parallel-item:first-child::after {align-self: flex-end;width: 50%;}#sk-container-id-1 div.sk-parallel-item:last-child::after {align-self: flex-start;width: 50%;}#sk-container-id-1 div.sk-parallel-item:only-child::after {width: 0;}#sk-container-id-1 div.sk-dashed-wrapped {border: 1px dashed gray;margin: 0 0.4em 0.5em 0.4em;box-sizing: border-box;padding-bottom: 0.4em;background-color: white;}#sk-container-id-1 div.sk-label label {font-family: monospace;font-weight: bold;display: inline-block;line-height: 1.2em;}#sk-container-id-1 div.sk-label-container {text-align: center;}#sk-container-id-1 div.sk-container {/* jupyter's `normalize.less` sets `[hidden] { display: none; }` but bootstrap.min.css set `[hidden] { display: none !important; }` so we also need the `!important` here to be able to override the default hidden behavior on the sphinx rendered scikit-learn.org. See: https://github.com/scikit-learn/scikit-learn/issues/21755 */display: inline-block !important;position: relative;}#sk-container-id-1 div.sk-text-repr-fallback {display: none;}</style><div id=\"sk-container-id-1\" class=\"sk-top-container\"><div class=\"sk-text-repr-fallback\"><pre>AgglomerativeClustering(n_clusters=3)</pre><b>In a Jupyter environment, please rerun this cell to show the HTML representation or trust the notebook. <br />On GitHub, the HTML representation is unable to render, please try loading this page with nbviewer.org.</b></div><div class=\"sk-container\" hidden><div class=\"sk-item\"><div class=\"sk-estimator sk-toggleable\"><input class=\"sk-toggleable__control sk-hidden--visually\" id=\"sk-estimator-id-1\" type=\"checkbox\" checked><label for=\"sk-estimator-id-1\" class=\"sk-toggleable__label sk-toggleable__label-arrow\">AgglomerativeClustering</label><div class=\"sk-toggleable__content\"><pre>AgglomerativeClustering(n_clusters=3)</pre></div></div></div></div></div>"
            ]
          },
          "metadata": {},
          "execution_count": 11
        }
      ]
    },
    {
      "cell_type": "code",
      "source": [
        "model=AG.fit(data)"
      ],
      "metadata": {
        "id": "1rza9PDXGkj_"
      },
      "execution_count": 12,
      "outputs": []
    },
    {
      "cell_type": "code",
      "source": [
        "model.labels_"
      ],
      "metadata": {
        "colab": {
          "base_uri": "https://localhost:8080/"
        },
        "id": "tEYDRAGXGsPg",
        "outputId": "8fa95f31-850f-4564-ec6e-0632126ebe97"
      },
      "execution_count": 14,
      "outputs": [
        {
          "output_type": "execute_result",
          "data": {
            "text/plain": [
              "array([1, 1, 1, 1, 1, 1, 1, 1, 1, 1, 1, 1, 1, 1, 1, 1, 1, 1, 1, 1, 1, 1,\n",
              "       1, 1, 1, 1, 1, 1, 1, 1, 1, 1, 1, 1, 1, 1, 1, 1, 1, 1, 1, 1, 1, 1,\n",
              "       1, 1, 1, 1, 1, 1, 0, 0, 0, 0, 0, 0, 0, 0, 0, 0, 0, 0, 0, 0, 0, 0,\n",
              "       0, 0, 0, 0, 0, 0, 0, 0, 0, 0, 0, 2, 0, 0, 0, 0, 0, 0, 0, 0, 0, 0,\n",
              "       0, 0, 0, 0, 0, 0, 0, 0, 0, 0, 0, 0, 2, 0, 2, 2, 2, 2, 0, 2, 2, 2,\n",
              "       2, 2, 2, 0, 0, 2, 2, 2, 2, 0, 2, 0, 2, 0, 2, 2, 0, 0, 2, 2, 2, 2,\n",
              "       2, 0, 0, 2, 2, 2, 0, 2, 2, 2, 0, 2, 2, 2, 0, 2, 2, 0])"
            ]
          },
          "metadata": {},
          "execution_count": 14
        }
      ]
    },
    {
      "cell_type": "code",
      "source": [
        "#Plot dendrogram to visualize the clustering linkage\n",
        "from scipy.cluster.hierarchy import dendrogram,linkage"
      ],
      "metadata": {
        "id": "FV7G9Y52GwoQ"
      },
      "execution_count": 17,
      "outputs": []
    },
    {
      "cell_type": "code",
      "source": [
        "la=linkage(data,method='single')"
      ],
      "metadata": {
        "id": "GKeXN4s3G_0n"
      },
      "execution_count": 21,
      "outputs": []
    },
    {
      "cell_type": "code",
      "source": [
        "la\n"
      ],
      "metadata": {
        "colab": {
          "base_uri": "https://localhost:8080/"
        },
        "id": "rs9jrCY3HMKv",
        "outputId": "69a4d416-4501-473d-ecd7-f9bf64335fbf"
      },
      "execution_count": 22,
      "outputs": [
        {
          "output_type": "execute_result",
          "data": {
            "text/plain": [
              "array([[1.01000000e+02, 1.42000000e+02, 0.00000000e+00, 2.00000000e+00],\n",
              "       [7.00000000e+00, 3.90000000e+01, 1.00000000e-01, 2.00000000e+00],\n",
              "       [0.00000000e+00, 1.70000000e+01, 1.00000000e-01, 2.00000000e+00],\n",
              "       [9.00000000e+00, 3.40000000e+01, 1.00000000e-01, 2.00000000e+00],\n",
              "       [1.28000000e+02, 1.32000000e+02, 1.00000000e-01, 2.00000000e+00],\n",
              "       [1.00000000e+01, 4.80000000e+01, 1.00000000e-01, 2.00000000e+00],\n",
              "       [4.00000000e+01, 1.52000000e+02, 1.41421356e-01, 3.00000000e+00],\n",
              "       [4.00000000e+00, 3.70000000e+01, 1.41421356e-01, 2.00000000e+00],\n",
              "       [1.90000000e+01, 2.10000000e+01, 1.41421356e-01, 2.00000000e+00],\n",
              "       [1.56000000e+02, 1.57000000e+02, 1.41421356e-01, 5.00000000e+00],\n",
              "       [2.90000000e+01, 3.00000000e+01, 1.41421356e-01, 2.00000000e+00],\n",
              "       [5.70000000e+01, 9.30000000e+01, 1.41421356e-01, 2.00000000e+00],\n",
              "       [8.00000000e+01, 8.10000000e+01, 1.41421356e-01, 2.00000000e+00],\n",
              "       [1.16000000e+02, 1.37000000e+02, 1.41421356e-01, 2.00000000e+00],\n",
              "       [8.00000000e+00, 3.80000000e+01, 1.41421356e-01, 2.00000000e+00],\n",
              "       [4.60000000e+01, 1.58000000e+02, 1.41421356e-01, 3.00000000e+00],\n",
              "       [1.51000000e+02, 1.59000000e+02, 1.41421356e-01, 7.00000000e+00],\n",
              "       [4.90000000e+01, 1.66000000e+02, 1.41421356e-01, 8.00000000e+00],\n",
              "       [2.70000000e+01, 2.80000000e+01, 1.41421356e-01, 2.00000000e+00],\n",
              "       [1.00000000e+00, 1.53000000e+02, 1.41421356e-01, 3.00000000e+00],\n",
              "       [3.00000000e+00, 4.70000000e+01, 1.41421356e-01, 2.00000000e+00],\n",
              "       [8.20000000e+01, 9.20000000e+01, 1.41421356e-01, 2.00000000e+00],\n",
              "       [9.50000000e+01, 9.60000000e+01, 1.41421356e-01, 2.00000000e+00],\n",
              "       [1.27000000e+02, 1.38000000e+02, 1.41421356e-01, 2.00000000e+00],\n",
              "       [2.00000000e+00, 1.70000000e+02, 1.41421356e-01, 3.00000000e+00],\n",
              "       [4.50000000e+01, 1.69000000e+02, 1.41421356e-01, 4.00000000e+00],\n",
              "       [1.20000000e+01, 1.75000000e+02, 1.41421356e-01, 5.00000000e+00],\n",
              "       [1.67000000e+02, 1.68000000e+02, 1.41421356e-01, 1.00000000e+01],\n",
              "       [1.60000000e+02, 1.76000000e+02, 1.41421356e-01, 7.00000000e+00],\n",
              "       [9.90000000e+01, 1.72000000e+02, 1.41421356e-01, 3.00000000e+00],\n",
              "       [6.30000000e+01, 9.10000000e+01, 1.41421356e-01, 2.00000000e+00],\n",
              "       [6.50000000e+01, 7.50000000e+01, 1.41421356e-01, 2.00000000e+00],\n",
              "       [2.50000000e+01, 1.78000000e+02, 1.73205081e-01, 8.00000000e+00],\n",
              "       [6.90000000e+01, 1.62000000e+02, 1.73205081e-01, 3.00000000e+00],\n",
              "       [1.23000000e+02, 1.26000000e+02, 1.73205081e-01, 2.00000000e+00],\n",
              "       [1.12000000e+02, 1.39000000e+02, 1.73205081e-01, 2.00000000e+00],\n",
              "       [1.74000000e+02, 1.82000000e+02, 1.73205081e-01, 1.10000000e+01],\n",
              "       [9.40000000e+01, 1.79000000e+02, 1.73205081e-01, 4.00000000e+00],\n",
              "       [8.80000000e+01, 1.87000000e+02, 1.73205081e-01, 5.00000000e+00],\n",
              "       [6.60000000e+01, 8.40000000e+01, 2.00000000e-01, 2.00000000e+00],\n",
              "       [7.80000000e+01, 1.80000000e+02, 2.00000000e-01, 3.00000000e+00],\n",
              "       [2.30000000e+01, 2.60000000e+01, 2.00000000e-01, 2.00000000e+00],\n",
              "       [4.20000000e+01, 1.64000000e+02, 2.00000000e-01, 3.00000000e+00],\n",
              "       [5.30000000e+01, 8.90000000e+01, 2.00000000e-01, 2.00000000e+00],\n",
              "       [7.40000000e+01, 9.70000000e+01, 2.00000000e-01, 2.00000000e+00],\n",
              "       [1.86000000e+02, 1.92000000e+02, 2.23606798e-01, 1.40000000e+01],\n",
              "       [1.10000000e+01, 1.95000000e+02, 2.23606798e-01, 1.50000000e+01],\n",
              "       [6.00000000e+00, 1.96000000e+02, 2.23606798e-01, 1.60000000e+01],\n",
              "       [3.50000000e+01, 1.77000000e+02, 2.23606798e-01, 1.10000000e+01],\n",
              "       [1.55000000e+02, 1.98000000e+02, 2.23606798e-01, 1.30000000e+01],\n",
              "       [4.30000000e+01, 1.91000000e+02, 2.23606798e-01, 3.00000000e+00],\n",
              "       [7.30000000e+01, 1.90000000e+02, 2.23606798e-01, 4.00000000e+00],\n",
              "       [7.00000000e+01, 1.73000000e+02, 2.23606798e-01, 3.00000000e+00],\n",
              "       [1.99000000e+02, 2.00000000e+02, 2.23606798e-01, 1.60000000e+01],\n",
              "       [1.97000000e+02, 2.03000000e+02, 2.23606798e-01, 3.20000000e+01],\n",
              "       [1.10000000e+02, 1.47000000e+02, 2.23606798e-01, 2.00000000e+00],\n",
              "       [1.20000000e+02, 1.43000000e+02, 2.23606798e-01, 2.00000000e+00],\n",
              "       [1.36000000e+02, 1.48000000e+02, 2.44948974e-01, 2.00000000e+00],\n",
              "       [5.80000000e+01, 1.81000000e+02, 2.44948974e-01, 3.00000000e+00],\n",
              "       [1.83000000e+02, 1.93000000e+02, 2.44948974e-01, 5.00000000e+00],\n",
              "       [6.70000000e+01, 1.71000000e+02, 2.44948974e-01, 3.00000000e+00],\n",
              "       [5.40000000e+01, 2.08000000e+02, 2.44948974e-01, 4.00000000e+00],\n",
              "       [1.46000000e+02, 1.84000000e+02, 2.44948974e-01, 3.00000000e+00],\n",
              "       [1.65000000e+02, 2.04000000e+02, 2.44948974e-01, 3.50000000e+01],\n",
              "       [1.03000000e+02, 1.63000000e+02, 2.44948974e-01, 3.00000000e+00],\n",
              "       [1.40000000e+02, 1.44000000e+02, 2.44948974e-01, 2.00000000e+00],\n",
              "       [1.30000000e+01, 2.13000000e+02, 2.44948974e-01, 3.60000000e+01],\n",
              "       [1.41000000e+02, 1.45000000e+02, 2.44948974e-01, 2.00000000e+00],\n",
              "       [2.02000000e+02, 2.12000000e+02, 2.44948974e-01, 6.00000000e+00],\n",
              "       [1.88000000e+02, 2.10000000e+02, 2.64575131e-01, 8.00000000e+00],\n",
              "       [6.80000000e+01, 8.70000000e+01, 2.64575131e-01, 2.00000000e+00],\n",
              "       [1.94000000e+02, 2.11000000e+02, 2.64575131e-01, 6.00000000e+00],\n",
              "       [1.13000000e+02, 1.50000000e+02, 2.64575131e-01, 3.00000000e+00],\n",
              "       [9.00000000e+01, 2.19000000e+02, 2.64575131e-01, 9.00000000e+00],\n",
              "       [5.00000000e+01, 5.20000000e+01, 2.64575131e-01, 2.00000000e+00],\n",
              "       [2.09000000e+02, 2.23000000e+02, 2.64575131e-01, 1.40000000e+01],\n",
              "       [5.10000000e+01, 5.60000000e+01, 2.64575131e-01, 2.00000000e+00],\n",
              "       [1.07000000e+02, 1.30000000e+02, 2.64575131e-01, 2.00000000e+00],\n",
              "       [2.06000000e+02, 2.15000000e+02, 2.64575131e-01, 4.00000000e+00],\n",
              "       [1.05000000e+02, 1.22000000e+02, 2.64575131e-01, 2.00000000e+00],\n",
              "       [1.49000000e+02, 2.18000000e+02, 2.82842712e-01, 7.00000000e+00],\n",
              "       [2.00000000e+01, 3.10000000e+01, 2.82842712e-01, 2.00000000e+00],\n",
              "       [8.60000000e+01, 2.24000000e+02, 2.82842712e-01, 3.00000000e+00],\n",
              "       [2.40000000e+01, 2.16000000e+02, 3.00000000e-01, 3.70000000e+01],\n",
              "       [1.24000000e+02, 2.28000000e+02, 3.00000000e-01, 5.00000000e+00],\n",
              "       [3.60000000e+01, 2.33000000e+02, 3.00000000e-01, 3.80000000e+01],\n",
              "       [2.31000000e+02, 2.35000000e+02, 3.00000000e-01, 4.00000000e+01],\n",
              "       [6.10000000e+01, 2.25000000e+02, 3.00000000e-01, 1.50000000e+01],\n",
              "       [1.15000000e+02, 2.07000000e+02, 3.00000000e-01, 3.00000000e+00],\n",
              "       [1.04000000e+02, 1.54000000e+02, 3.00000000e-01, 3.00000000e+00],\n",
              "       [5.50000000e+01, 1.89000000e+02, 3.00000000e-01, 3.00000000e+00],\n",
              "       [2.21000000e+02, 2.26000000e+02, 3.16227766e-01, 8.00000000e+00],\n",
              "       [1.21000000e+02, 2.22000000e+02, 3.16227766e-01, 4.00000000e+00],\n",
              "       [2.37000000e+02, 2.40000000e+02, 3.16227766e-01, 1.80000000e+01],\n",
              "       [2.32000000e+02, 2.41000000e+02, 3.16227766e-01, 1.10000000e+01],\n",
              "       [7.70000000e+01, 2.44000000e+02, 3.16227766e-01, 1.20000000e+01],\n",
              "       [7.60000000e+01, 2.45000000e+02, 3.16227766e-01, 1.30000000e+01],\n",
              "       [2.01000000e+02, 2.43000000e+02, 3.31662479e-01, 2.20000000e+01],\n",
              "       [8.30000000e+01, 1.33000000e+02, 3.31662479e-01, 2.00000000e+00],\n",
              "       [5.00000000e+00, 1.80000000e+01, 3.31662479e-01, 2.00000000e+00],\n",
              "       [2.30000000e+02, 2.42000000e+02, 3.31662479e-01, 1.10000000e+01],\n",
              "       [7.10000000e+01, 2.46000000e+02, 3.31662479e-01, 1.40000000e+01],\n",
              "       [2.14000000e+02, 2.39000000e+02, 3.31662479e-01, 6.00000000e+00],\n",
              "       [1.11000000e+02, 2.05000000e+02, 3.46410162e-01, 3.00000000e+00],\n",
              "       [1.85000000e+02, 2.34000000e+02, 3.46410162e-01, 7.00000000e+00],\n",
              "       [2.36000000e+02, 2.49000000e+02, 3.46410162e-01, 4.20000000e+01],\n",
              "       [1.60000000e+01, 2.55000000e+02, 3.46410162e-01, 4.30000000e+01],\n",
              "       [2.47000000e+02, 2.51000000e+02, 3.46410162e-01, 3.60000000e+01],\n",
              "       [3.20000000e+01, 2.56000000e+02, 3.46410162e-01, 4.40000000e+01],\n",
              "       [3.30000000e+01, 2.58000000e+02, 3.46410162e-01, 4.50000000e+01],\n",
              "       [1.25000000e+02, 1.29000000e+02, 3.46410162e-01, 2.00000000e+00],\n",
              "       [7.90000000e+01, 2.57000000e+02, 3.46410162e-01, 3.70000000e+01],\n",
              "       [7.20000000e+01, 2.48000000e+02, 3.60555128e-01, 3.00000000e+00],\n",
              "       [4.40000000e+01, 2.59000000e+02, 3.60555128e-01, 4.60000000e+01],\n",
              "       [2.52000000e+02, 2.53000000e+02, 3.60555128e-01, 9.00000000e+00],\n",
              "       [6.00000000e+01, 1.61000000e+02, 3.60555128e-01, 3.00000000e+00],\n",
              "       [2.17000000e+02, 2.64000000e+02, 3.60555128e-01, 1.10000000e+01],\n",
              "       [2.50000000e+02, 2.62000000e+02, 3.60555128e-01, 1.40000000e+01],\n",
              "       [2.54000000e+02, 2.66000000e+02, 3.60555128e-01, 1.80000000e+01],\n",
              "       [1.50000000e+01, 2.63000000e+02, 3.60555128e-01, 4.70000000e+01],\n",
              "       [2.38000000e+02, 2.68000000e+02, 3.74165739e-01, 2.10000000e+01],\n",
              "       [8.50000000e+01, 2.61000000e+02, 3.74165739e-01, 3.80000000e+01],\n",
              "       [2.67000000e+02, 2.70000000e+02, 3.74165739e-01, 3.50000000e+01],\n",
              "       [9.80000000e+01, 2.65000000e+02, 3.87298335e-01, 4.00000000e+00],\n",
              "       [5.90000000e+01, 2.71000000e+02, 3.87298335e-01, 3.90000000e+01],\n",
              "       [1.02000000e+02, 2.60000000e+02, 3.87298335e-01, 3.00000000e+00],\n",
              "       [2.72000000e+02, 2.75000000e+02, 4.00000000e-01, 3.80000000e+01],\n",
              "       [1.18000000e+02, 2.29000000e+02, 4.12310563e-01, 3.00000000e+00],\n",
              "       [1.40000000e+01, 2.69000000e+02, 4.12310563e-01, 4.80000000e+01],\n",
              "       [1.17000000e+02, 1.31000000e+02, 4.12310563e-01, 2.00000000e+00],\n",
              "       [2.74000000e+02, 2.76000000e+02, 4.12310563e-01, 7.70000000e+01],\n",
              "       [6.40000000e+01, 2.80000000e+02, 4.24264069e-01, 7.80000000e+01],\n",
              "       [1.00000000e+02, 2.81000000e+02, 4.24264069e-01, 7.90000000e+01],\n",
              "       [1.19000000e+02, 2.82000000e+02, 4.35889894e-01, 8.00000000e+01],\n",
              "       [2.27000000e+02, 2.83000000e+02, 4.35889894e-01, 8.20000000e+01],\n",
              "       [2.20000000e+01, 2.78000000e+02, 4.58257569e-01, 4.90000000e+01],\n",
              "       [1.14000000e+02, 2.84000000e+02, 4.89897949e-01, 8.30000000e+01],\n",
              "       [6.20000000e+01, 2.86000000e+02, 4.89897949e-01, 8.40000000e+01],\n",
              "       [2.20000000e+02, 2.87000000e+02, 5.09901951e-01, 8.60000000e+01],\n",
              "       [2.77000000e+02, 2.88000000e+02, 5.29150262e-01, 8.90000000e+01],\n",
              "       [1.35000000e+02, 2.89000000e+02, 5.38516481e-01, 9.00000000e+01],\n",
              "       [1.34000000e+02, 2.90000000e+02, 5.38516481e-01, 9.10000000e+01],\n",
              "       [1.08000000e+02, 2.91000000e+02, 5.56776436e-01, 9.20000000e+01],\n",
              "       [4.10000000e+01, 2.85000000e+02, 6.24499800e-01, 5.00000000e+01],\n",
              "       [1.09000000e+02, 2.92000000e+02, 6.32455532e-01, 9.30000000e+01],\n",
              "       [2.73000000e+02, 2.94000000e+02, 6.48074070e-01, 9.70000000e+01],\n",
              "       [1.06000000e+02, 2.95000000e+02, 7.34846923e-01, 9.80000000e+01],\n",
              "       [2.79000000e+02, 2.96000000e+02, 8.18535277e-01, 1.00000000e+02],\n",
              "       [2.93000000e+02, 2.97000000e+02, 1.64012195e+00, 1.50000000e+02]])"
            ]
          },
          "metadata": {},
          "execution_count": 22
        }
      ]
    },
    {
      "cell_type": "code",
      "source": [
        "import matplotlib.pyplot as plt\n",
        "plt.figure(figsize=(17,5))\n",
        "dendrogram(la)\n",
        "plt.show()"
      ],
      "metadata": {
        "colab": {
          "base_uri": "https://localhost:8080/",
          "height": 445
        },
        "id": "dwH60CKpHWNi",
        "outputId": "e16e5b44-7e32-4d74-aabe-526b5639fcaf"
      },
      "execution_count": 26,
      "outputs": [
        {
          "output_type": "display_data",
          "data": {
            "text/plain": [
              "<Figure size 1700x500 with 1 Axes>"
            ],
            "image/png": "[encoded data removed]"
          },
          "metadata": {}
        }
      ]
    },
    {
      "cell_type": "code",
      "source": [],
      "metadata": {
        "id": "wS9JxHj9Hbei"
      },
      "execution_count": null,
      "outputs": []
    }
  ]
}