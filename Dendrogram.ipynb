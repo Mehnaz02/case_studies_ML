{
  "nbformat": 4,
  "nbformat_minor": 0,
  "metadata": {
    "colab": {
      "provenance": []
    },
    "kernelspec": {
      "name": "python3",
      "display_name": "Python 3"
    },
    "language_info": {
      "name": "python"
    }
  },
  "cells": [
    {
      "cell_type": "code",
      "execution_count": 1,
      "metadata": {
        "id": "D24uMlvLB_2p"
      },
      "outputs": [],
      "source": [
        "import pandas as pd\n",
        "import numpy as np"
      ]
    },
    {
      "cell_type": "code",
      "source": [
        "raw_data=[[5,3],\n",
        "[10,15],\n",
        "[15,12],\n",
        "[24,10],\n",
        "[30,30],\n",
        "[85,70],\n",
        "[71,80],\n",
        "[60,78],\n",
        "[70,55],\n",
        "[80,91],]"
      ],
      "metadata": {
        "id": "XVNYu--qCWnB"
      },
      "execution_count": 2,
      "outputs": []
    },
    {
      "cell_type": "code",
      "source": [
        "data=np.array(raw_data)"
      ],
      "metadata": {
        "id": "qxcmWEDzCR2i"
      },
      "execution_count": 3,
      "outputs": []
    },
    {
      "cell_type": "code",
      "source": [
        "data"
      ],
      "metadata": {
        "colab": {
          "base_uri": "https://localhost:8080/"
        },
        "id": "Tr4CdxYpCb8D",
        "outputId": "be3e1880-ed26-4407-a23b-766305386db2"
      },
      "execution_count": 9,
      "outputs": [
        {
          "output_type": "execute_result",
          "data": {
            "text/plain": [
              "array([[ 5,  3],\n",
              "       [10, 15],\n",
              "       [15, 12],\n",
              "       [24, 10],\n",
              "       [30, 30],\n",
              "       [85, 70],\n",
              "       [71, 80],\n",
              "       [60, 78],\n",
              "       [70, 55],\n",
              "       [80, 91]])"
            ]
          },
          "metadata": {},
          "execution_count": 9
        }
      ]
    },
    {
      "cell_type": "code",
      "source": [
        "data.ndim"
      ],
      "metadata": {
        "colab": {
          "base_uri": "https://localhost:8080/"
        },
        "id": "4JJOW5WKC_Uc",
        "outputId": "7efcc080-b2c2-4d3d-fe8d-3ed09d82246d"
      },
      "execution_count": 12,
      "outputs": [
        {
          "output_type": "execute_result",
          "data": {
            "text/plain": [
              "2"
            ]
          },
          "metadata": {},
          "execution_count": 12
        }
      ]
    },
    {
      "cell_type": "code",
      "source": [
        "import matplotlib.pyplot as plt\n",
        "\n",
        "plt.scatter(x=data,y=data)"
      ],
      "metadata": {
        "colab": {
          "base_uri": "https://localhost:8080/",
          "height": 447
        },
        "id": "DrMgO3hBCc9E",
        "outputId": "ece487e2-98c2-44ed-e40b-bafb7b75e4dc"
      },
      "execution_count": 13,
      "outputs": [
        {
          "output_type": "execute_result",
          "data": {
            "text/plain": [
              "<matplotlib.collections.PathCollection at 0x7c8f28887190>"
            ]
          },
          "metadata": {},
          "execution_count": 13
        },
        {
          "output_type": "display_data",
          "data": {
            "text/plain": [
              "<Figure size 640x480 with 1 Axes>"
            ],
            "image/png": "[encoded data removed]"
          },
          "metadata": {}
        }
      ]
    },
    {
      "cell_type": "code",
      "source": [
        "#plot dendrogram to visualize the clustering linkage\n",
        "\n",
        "from scipy.cluster.hierarchy import dendrogram,linkage"
      ],
      "metadata": {
        "id": "37Ek8lGmCymO"
      },
      "execution_count": 16,
      "outputs": []
    },
    {
      "cell_type": "code",
      "source": [
        "la=linkage(data,method='single')"
      ],
      "metadata": {
        "id": "q6wzkrRmDcQG"
      },
      "execution_count": 17,
      "outputs": []
    },
    {
      "cell_type": "code",
      "source": [
        "la"
      ],
      "metadata": {
        "colab": {
          "base_uri": "https://localhost:8080/"
        },
        "id": "14JYpIO5D9-V",
        "outputId": "a1deba0d-0adc-4618-9b0d-0397b9b7eabf"
      },
      "execution_count": 18,
      "outputs": [
        {
          "output_type": "execute_result",
          "data": {
            "text/plain": [
              "array([[ 1.        ,  2.        ,  5.83095189,  2.        ],\n",
              "       [ 3.        , 10.        ,  9.21954446,  3.        ],\n",
              "       [ 6.        ,  7.        , 11.18033989,  2.        ],\n",
              "       [ 0.        , 11.        , 13.        ,  4.        ],\n",
              "       [ 9.        , 12.        , 14.2126704 ,  3.        ],\n",
              "       [ 5.        , 14.        , 17.20465053,  4.        ],\n",
              "       [ 4.        , 13.        , 20.88061302,  5.        ],\n",
              "       [ 8.        , 15.        , 21.21320344,  5.        ],\n",
              "       [16.        , 17.        , 47.16990566, 10.        ]])"
            ]
          },
          "metadata": {},
          "execution_count": 18
        }
      ]
    },
    {
      "cell_type": "code",
      "source": [
        "dendrogram(la)\n",
        "plt.show()"
      ],
      "metadata": {
        "colab": {
          "base_uri": "https://localhost:8080/",
          "height": 434
        },
        "id": "ZhsDD0QUD-yJ",
        "outputId": "4004327d-c149-467f-f4e8-e065e37fdb32"
      },
      "execution_count": 21,
      "outputs": [
        {
          "output_type": "display_data",
          "data": {
            "text/plain": [
              "<Figure size 640x480 with 1 Axes>"
            ],
            "image/png": "[encoded data removed]"
          },
          "metadata": {}
        }
      ]
    },
    {
      "cell_type": "code",
      "source": [],
      "metadata": {
        "id": "NdCdfHttEBsB"
      },
      "execution_count": null,
      "outputs": []
    }
  ]
}